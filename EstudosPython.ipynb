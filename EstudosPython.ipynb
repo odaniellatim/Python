{
 "cells": [
  {
   "cell_type": "markdown",
   "id": "072bd891",
   "metadata": {},
   "source": [
    "Escrevendo um texto oe Numero na tela usando o comando \"Print\"."
   ]
  },
  {
   "cell_type": "code",
   "execution_count": 12,
   "id": "dc9354c1",
   "metadata": {},
   "outputs": [
    {
     "name": "stdout",
     "output_type": "stream",
     "text": [
      "111\n",
      "Esse é um texto\n"
     ]
    }
   ],
   "source": [
    "print(111)\n",
    "print('Esse é um texto')"
   ]
  },
  {
   "cell_type": "markdown",
   "id": "b5b0bde6",
   "metadata": {},
   "source": [
    "Operações matematicas"
   ]
  },
  {
   "cell_type": "code",
   "execution_count": 13,
   "id": "11f465b9",
   "metadata": {},
   "outputs": [
    {
     "name": "stdout",
     "output_type": "stream",
     "text": [
      "2\n",
      "1\n",
      "6\n",
      "1024\n",
      "1\n",
      "4\n"
     ]
    }
   ],
   "source": [
    "print(1 + 1) \n",
    "print(2 - 1)\n",
    "print(2 * 3)\n",
    "print(2 ** 10)\n",
    "print(11 % 2)\n",
    "print((1 + 1) * 2)"
   ]
  },
  {
   "cell_type": "markdown",
   "id": "c9d61906",
   "metadata": {},
   "source": [
    "Trabalhando com strings no Python - Concatenção e verificação de igualdade nos dados."
   ]
  },
  {
   "cell_type": "code",
   "execution_count": 16,
   "id": "d51c43f9",
   "metadata": {},
   "outputs": [
    {
     "name": "stdout",
     "output_type": "stream",
     "text": [
      "Daniel Latim\n",
      "Daniel Latim\n",
      "False\n",
      "True\n"
     ]
    }
   ],
   "source": [
    "print( 'Daniel Latim' )\n",
    "print( 'Daniel' + ' Latim' )\n",
    "print( 'Daniel' in 'Latim' )\n",
    "print( 'Daniel' in 'Daniel' )"
   ]
  },
  {
   "cell_type": "markdown",
   "id": "29aa8570",
   "metadata": {},
   "source": [
    "Trabalhando com Variaveis no Python"
   ]
  },
  {
   "cell_type": "code",
   "execution_count": 21,
   "id": "6dbe059d",
   "metadata": {},
   "outputs": [
    {
     "name": "stdout",
     "output_type": "stream",
     "text": [
      "1800\n",
      "Daniel Latim\n"
     ]
    }
   ],
   "source": [
    "qtde_vendas = 1800\n",
    "nome = 'Daniel Latim'\n",
    "\n",
    "print(qtde_vendas)\n",
    "print(nome)"
   ]
  },
  {
   "cell_type": "markdown",
   "id": "0c63a839",
   "metadata": {},
   "source": [
    "Pegando dados que o usuario informa no Python"
   ]
  },
  {
   "cell_type": "code",
   "execution_count": 23,
   "id": "6e68eecb",
   "metadata": {},
   "outputs": [
    {
     "name": "stdout",
     "output_type": "stream",
     "text": [
      "Daniel Latim\n"
     ]
    }
   ],
   "source": [
    "nome = input('Qual é o seu nome?')\n",
    "sobrenome = input('Qual o seu sobrenome?')\n",
    "\n",
    "print(nome + '' + sobrenome)"
   ]
  },
  {
   "cell_type": "markdown",
   "id": "3f446b98",
   "metadata": {},
   "source": [
    "Redeclarando uma variavel no Python"
   ]
  },
  {
   "cell_type": "code",
   "execution_count": 24,
   "id": "c13fac45",
   "metadata": {},
   "outputs": [
    {
     "name": "stdout",
     "output_type": "stream",
     "text": [
      "500\n",
      "300\n"
     ]
    }
   ],
   "source": [
    "faturamento = 1000\n",
    "custo = 500\n",
    "\n",
    "lucro = faturamento - custo\n",
    "print(lucro)\n",
    "\n",
    "custo = 700\n",
    "lucro = faturamento - custo\n",
    "print (lucro)"
   ]
  }
 ],
 "metadata": {
  "kernelspec": {
   "display_name": "Python 3",
   "language": "python",
   "name": "python3"
  },
  "language_info": {
   "codemirror_mode": {
    "name": "ipython",
    "version": 3
   },
   "file_extension": ".py",
   "mimetype": "text/x-python",
   "name": "python",
   "nbconvert_exporter": "python",
   "pygments_lexer": "ipython3",
   "version": "3.10.12"
  }
 },
 "nbformat": 4,
 "nbformat_minor": 5
}
