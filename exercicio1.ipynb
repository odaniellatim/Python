{
 "cells": [
  {
   "cell_type": "markdown",
   "id": "3c5ee3a6",
   "metadata": {},
   "source": [
    "# Exercicio do Módulo 1 - Operações, Variaveis e Input"
   ]
  },
  {
   "cell_type": "markdown",
   "id": "d4c51cab",
   "metadata": {},
   "source": [
    "### Part 1 - Operações e Variáveis\n",
    "\n",
    "Crie um programa que imprima (print) os principais indicadores da loja Hashtag&Drink no último ano. Obs: faça tudo usando variáveis.\n",
    "\n",
    "Valores do último ano:\n",
    "\n",
    "- Quantidade de Vendas de Coca = 150\n",
    "- Quantidade de vendas Pepsi = 130\n",
    "- Preço Unitário da Coca = 1,50\n",
    "- Preço Unitário da Pepsi = 1,50\n",
    "- Custo da Loja: 2.500,00\n",
    "\n",
    "Use o bloco abaixo para criar todas as variáveis que precisar."
   ]
  },
  {
   "cell_type": "code",
   "execution_count": 4,
   "id": "b09d93e4",
   "metadata": {},
   "outputs": [],
   "source": [
    "qntCoca = 150\n",
    "qntPepsi = 130\n",
    "\n",
    "PrecoCoca = 1.50\n",
    "PrecoPepsi = 1.50\n",
    "\n",
    "CustoLoja = 2500.00\n"
   ]
  },
  {
   "cell_type": "markdown",
   "id": "0dd379bd",
   "metadata": {},
   "source": [
    "1. Qual foi o faturamento de Pepsi da Loja?"
   ]
  },
  {
   "cell_type": "code",
   "execution_count": 7,
   "id": "085c795d",
   "metadata": {},
   "outputs": [
    {
     "name": "stdout",
     "output_type": "stream",
     "text": [
      "195.0\n"
     ]
    }
   ],
   "source": [
    "VendasPepsi = qntPepsi * PrecoPepsi\n",
    "print(VendasPepsi)"
   ]
  },
  {
   "cell_type": "markdown",
   "id": "b8b4bc47",
   "metadata": {},
   "source": [
    "2. Qual foi o faturamento de Coca da Loja?"
   ]
  },
  {
   "cell_type": "code",
   "execution_count": 8,
   "id": "a83681fa",
   "metadata": {},
   "outputs": [
    {
     "name": "stdout",
     "output_type": "stream",
     "text": [
      "225.0\n"
     ]
    }
   ],
   "source": [
    "VendasCoca = qntCoca * PrecoCoca\n",
    "print(VendasCoca)"
   ]
  },
  {
   "cell_type": "markdown",
   "id": "4463ac9d",
   "metadata": {},
   "source": [
    "3. Qual foi o lucro da loja?"
   ]
  },
  {
   "cell_type": "code",
   "execution_count": 19,
   "id": "75b21968",
   "metadata": {},
   "outputs": [
    {
     "name": "stdout",
     "output_type": "stream",
     "text": [
      "-2080.0\n"
     ]
    }
   ],
   "source": [
    "faturamento = VendasPepsi + VendasCoca\n",
    "Lucro = faturamento - CustoLoja\n",
    "print(Lucro)"
   ]
  },
  {
   "cell_type": "markdown",
   "id": "71e3563e",
   "metadata": {},
   "source": [
    "4. Qual foi a margem da Loja? (Lembre-se, margem = Lucro / Faturamento). Não precisa formatar em percentual."
   ]
  },
  {
   "cell_type": "code",
   "execution_count": 21,
   "id": "dc3b88c1",
   "metadata": {},
   "outputs": [
    {
     "name": "stdout",
     "output_type": "stream",
     "text": [
      "-4.9523809523809526\n"
     ]
    }
   ],
   "source": [
    "MargemLoja = Lucro / faturamento\n",
    "print(MargemLoja)"
   ]
  },
  {
   "cell_type": "markdown",
   "id": "f38ec015",
   "metadata": {},
   "source": [
    "### Parte 2 - Input e Strings\n",
    "\n",
    "A maioria das empresas trabalham com um Código para cada produto que possuem. A Hashtag&Drin, por exemplo, tem mais de 1.000 produtos e possui um código para cada produto.</br>\n",
    "\n",
    "Exemplo:</br>\n",
    "- Coca -> Código: BEB1300543 \n",
    "- Pepsi -> Código: BEB1300545\n",
    "- Vinho Primitivo Lucarelli -> Código: BAC1546001\n",
    "- Vodka Smirnoff -> Código: BAC17675002\n",
    "\n",
    "Repare que todas as bebidas não alcóolicas tem o início do Código \"BEB\" e todas as bebidas alcóolicas tem o inicio do código \"BAC\".\n",
    "\n",
    "Crie um programa de consulta de bebida que, dado um código qualquer, identifique se a bebida é alcóolica. O programa deve responder True para bebidas Alcóolicas e False para bebidas não alcóolicas. Para inserir um código, use input.\n",
    "\n",
    "Dica: Lembre-se do comando in para strings e sempre insira os códigos com loetra maiúscula para facilitar.\n"
   ]
  },
  {
   "cell_type": "code",
   "execution_count": 25,
   "id": "37a9055a",
   "metadata": {},
   "outputs": [
    {
     "name": "stdout",
     "output_type": "stream",
     "text": [
      "É uma bebiba alcoolica: \n",
      "True\n"
     ]
    }
   ],
   "source": [
    "codigo = input('Qual o codigo da bebida?')\n",
    "\n",
    "beb = 'BEB'\n",
    "bac = 'BAC'\n",
    "\n",
    "\n",
    "print('É uma bebiba alcoolica: ')\n",
    "print(bac in codigo)"
   ]
  }
 ],
 "metadata": {
  "kernelspec": {
   "display_name": "Python 3",
   "language": "python",
   "name": "python3"
  },
  "language_info": {
   "codemirror_mode": {
    "name": "ipython",
    "version": 3
   },
   "file_extension": ".py",
   "mimetype": "text/x-python",
   "name": "python",
   "nbconvert_exporter": "python",
   "pygments_lexer": "ipython3",
   "version": "3.10.12"
  }
 },
 "nbformat": 4,
 "nbformat_minor": 5
}
